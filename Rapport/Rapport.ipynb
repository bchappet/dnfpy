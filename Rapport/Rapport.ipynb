{
 "cells": [
  {
   "cell_type": "code",
   "execution_count": 20,
   "metadata": {
    "collapsed": false
   },
   "outputs": [
    {
     "data": {
      "text/html": [
       "<script>\n",
       "code_show=true; \n",
       "function code_toggle() {\n",
       " if (code_show){\n",
       " $('div.input').hide();\n",
       " } else {\n",
       " $('div.input').show();\n",
       " }\n",
       " code_show = !code_show\n",
       "} \n",
       "$( document ).ready(code_toggle);\n",
       "</script>\n",
       "The raw code for this IPython notebook is by default hidden for easier reading.\n",
       "To toggle on/off the raw code, click <a href=\"javascript:code_toggle()\">here</a>."
      ],
      "text/plain": [
       "<IPython.core.display.HTML object>"
      ]
     },
     "execution_count": 20,
     "metadata": {},
     "output_type": "execute_result"
    }
   ],
   "source": [
    "from IPython.display import HTML\n",
    "HTML('''<script>\n",
    "code_show=true; \n",
    "function code_toggle() {\n",
    " if (code_show){\n",
    " $('div.input').hide();\n",
    " } else {\n",
    " $('div.input').show();\n",
    " }\n",
    " code_show = !code_show\n",
    "} \n",
    "$( document ).ready(code_toggle);\n",
    "</script>\n",
    "The raw code for this IPython notebook is by default hidden for easier reading.\n",
    "To toggle on/off the raw code, click <a href=\"javascript:code_toggle()\">here</a>.''')"
   ]
  },
  {
   "cell_type": "code",
   "execution_count": 2,
   "metadata": {
    "collapsed": false
   },
   "outputs": [
    {
     "name": "stderr",
     "output_type": "stream",
     "text": [
      ":0: FutureWarning: IPython widgets are experimental and may change in the future.\n"
     ]
    }
   ],
   "source": [
    "import matplotlib.pyplot as plt\n",
    "%matplotlib inline\n",
    "import numpy as np\n",
    "import math\n",
    "import IPython.html.widgets as widgets\n",
    "from IPython.html.widgets import interactive\n",
    "from IPython.display import display"
   ]
  },
  {
   "cell_type": "markdown",
   "metadata": {},
   "source": [
    "<h1 style=\"text-decoration: underline, overline; color: navy;\">Rapport de stage</h1>\n",
    "\n",
    "<h2 style=\"text-decoration: underline;\">Partie I : Robot controlé par DNF</h2>\n",
    "\n",
    "Pour arriver à ce résulat deux outils ont été utilisés :\n",
    "* vrep : simulateur de robot\n",
    "* DNFPY : le logiciel codant des DNF en python par Benoit\n",
    "\n",
    "Il a fallu donc faire le lien entre ces deux logiciels.\n",
    "\n",
    "###La classe VRepSimulator\n",
    "\n",
    "Issue d'une classe abstraite RobotSimulator elle même issue de la classe Map2D de DNFPY, cette classe a pour but de servir d'interface entre DNFPY et vrep.\n",
    "\n",
    "Elle permet d'initialiser une map simulator donc les diverses fonctions sont :\n",
    "* connection : permet la connexion avec Vrep et le lancement de la simulation\n",
    "* disconnection : met fin à la connexion et à la simulation\n",
    "* compute : fait un pas d'itération dans le cas du mode synchrone\n",
    "* getSensor : récupère les données d'un capteur\n",
    "* getSensors : récupère les données de plusieurs capteurs\n",
    "* setController : permet de modifier l'ordre d'un controleur\n",
    "\n",
    "Voici les diverses commandes associées à Vrep que l'on retrouve dans les fonctions précédentes :\n",
    "\n",
    "* Connexion et déconnexion :\n",
    "\n",
    "clientID=vrep.simxStart('127.0.0.1',port,True,True,5000,5)\n",
    "vrep.simxFinish(clientID)\n",
    "\n",
    "* Mode synchrone :\n",
    "\n",
    "vrep.simxSynchronous(clientID,True) #active le mode synchrone\n",
    "vrep.simxSynchronousTrigger(clientID) #permet de rajouter un pas\n",
    "\n",
    "* Simulation :\n",
    "\n",
    "vrep.simxStartSimulation(clientID,vrep.simx_opmode_oneshot_wait)\n",
    "vrep.simxStopSimulation(clientID,vrep.simx_opmode_oneshot_wait)\n",
    "\n",
    "* Permet d'obtenir un handle :\n",
    "    \n",
    "errorCode,sensor_handle=vrep.simxGetObjectHandle(clientID,'ePuck_proxSensor1',vrep.simx_opmode_oneshot_wait)\n",
    "\n",
    "\n",
    "* Appel d'un capteur de proximité :\n",
    "\n",
    "errorCode,detectionState,detectedPoint,detectedObjectHandle,detectedSurfaceNormalVector=vrep.simxReadProximitySensor(clientID,sensor_handle,vrep.simx_opmode_streaming)\n",
    "\n",
    "\n",
    "* Changer la valeur des moteurs :\n",
    "\n",
    "errorCode=vrep.simxSetJointTargetVelocity(clientID,left_motor_handle,vl, vrep.simx_opmode_streaming)\n",
    "\n",
    "###La classe GetIRSensors\n",
    "\n",
    "Hérite de MapND, elle a comme enfant la map VRepSimulator et en récupère les données des capteurs de proximité infrarouge ePuck dans une liste.\n",
    "\n",
    "L'organisation des maps est créé dans la classe ModelEPuckDNF.\n",
    "\n",
    "###La classeMotorProjection\n",
    "\n",
    "Hérite de Map2D, c'est la racine double (pour chaque roue) des maps. \n",
    "Elle a comme enfant les maps VRepSimulator et Activation obtenu par une map DNF qui a elle même comme enfant GetIRSensors.\n",
    "\n",
    "Le gros du travail est effectué ici. Si jamais il y a une quelconque activation entre $-\\frac{\\Pi}{2}$ et $\\frac{\\Pi}{2}$ alors la vitesse des roues va être modifiées selon la loi suivante pour la roue gauche :\n",
    "$\\frac{3}{1+e^{(x*5)}}-1.5$\n",
    "<p>Et symétriquement dans le cas de la roue droite.</p>"
   ]
  },
  {
   "cell_type": "code",
   "execution_count": 9,
   "metadata": {
    "collapsed": false,
    "scrolled": true
   },
   "outputs": [
    {
     "data": {
      "image/png": "[encoded data removed]",
      "text/plain": [
       "<matplotlib.figure.Figure at 0xb0ceb44c>"
      ]
     },
     "metadata": {},
     "output_type": "display_data"
    }
   ],
   "source": [
    "x, st = np.linspace(-math.pi/2,math.pi/2, retstep=True)\n",
    "vL = 3/(1+np.exp(x*5))-1.5\n",
    "vR = 3/(1+np.exp(-x*5))-1.5\n",
    "plt.plot(x,vL,label='Vitesse roue gauche')\n",
    "plt.plot(x,vR,label='Vitesse roue droite')\n",
    "plt.legend()\n",
    "plt.xlabel(\"Degrés moyen de l'activation (position de l'obstacle)\")\n",
    "plt.ylabel(\"Vitesse angulaire (rad/s)\")\n",
    "plt.title(\"Vitesses celon l'angle de l'obstacle\")\n",
    "plt.show()"
   ]
  },
  {
   "cell_type": "markdown",
   "metadata": {},
   "source": [
    "Mais l'activation n'étant pas une valeur mais une courbe, il faut d'abord en tirer une valeur intéressante et situé entre $-\\frac{\\Pi}{2}$ et $\\frac{\\Pi}{2}$. Pour cela, nous avons fait la moyenne pondérée des angles par le poids de l'activation.\n",
    "C'est à dire $\\frac{\\sum{\\phi_i V_i}}{\\sum{V_i}}$ avec $\\phi_i$ les angles de chaques capteur et $V_i$ l'activation i.\n",
    "\n",
    "Pour vérifier le bon fonctionnement dynamique de la formule face à un obstacle, observons $\\frac{d\\phi}{dt} = \\omega$ en fonction de $\\psi$.\n",
    "\n",
    "Nous connaissons la taille de l'axe des deux roues ($\\Delta = 52 mm$) et le rayon des roues ($r = 20.5 mm$).\n",
    "On en déduit que face à un obstacle $\\omega =\\frac{r}{\\Delta}(v_d-v_g)= \\frac{2r}{\\Delta}v_d$ avec $v_d = -v_g$ la vitesse angulaire du moteur droit.\n",
    "\n",
    "Et hors de l'obstacle $\\omega = 0rad/s$ car les deux roues vont à la même vitesse"
   ]
  },
  {
   "cell_type": "code",
   "execution_count": 19,
   "metadata": {
    "collapsed": false
   },
   "outputs": [
    {
     "data": {
      "image/png": "[encoded data removed]",
      "text/plain": [
       "<matplotlib.figure.Figure at 0xb0df8a0c>"
      ]
     },
     "metadata": {},
     "output_type": "display_data"
    }
   ],
   "source": [
    "x=np.linspace(-math.pi,math.pi)\n",
    "vR = 3/(1+np.exp(-x*5))-1.5\n",
    "for i in range(50):\n",
    "    if x[i]<-math.pi/2 or x[i]>math.pi/2:\n",
    "        vR[i]=0\n",
    "r=20.5\n",
    "delta=52\n",
    "w=2*r/delta*vR\n",
    "plt.plot(x,w, label='Rotation')\n",
    "plt.legend()\n",
    "plt.xlabel(\"Angle psi pour un obstacle situé à 0\")\n",
    "plt.ylabel(\"Rotation du robot (rad/s)\")\n",
    "plt.title(\"Dynamique selon l'obstacle\")\n",
    "plt.show()"
   ]
  },
  {
   "cell_type": "code",
   "execution_count": null,
   "metadata": {
    "collapsed": true
   },
   "outputs": [],
   "source": []
  }
 ],
 "metadata": {
  "kernelspec": {
   "display_name": "Python 3",
   "language": "python",
   "name": "python3"
  },
  "language_info": {
   "codemirror_mode": {
    "name": "ipython",
    "version": 3
   },
   "file_extension": ".py",
   "mimetype": "text/x-python",
   "name": "python",
   "nbconvert_exporter": "python",
   "pygments_lexer": "ipython3",
   "version": "3.4.3"
  }
 },
 "nbformat": 4,
 "nbformat_minor": 0
}
