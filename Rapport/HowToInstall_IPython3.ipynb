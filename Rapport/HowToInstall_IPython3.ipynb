{
 "cells": [
  {
   "cell_type": "markdown",
   "metadata": {},
   "source": [
    "# How to install IPython3?\n",
    "I found that installing ipython3 (JuPyTer) last version (JSON4 etc.) is harder that expected on Ubuntu 14.04.$\n",
    "The problem is that default version of ipython3 using sudo apt-get install ipython3-notebook is the version 1.2.1 which is a bit old.\n",
    "\n",
    "To install a good version without cloning the ipython rpositories one has to use pip3 for instance.\n",
    "Pip3 package are more up to date.\n",
    "\n",
    "* sudo pip3 install ipython\n",
    "There will still be somme erros and you will have to install the last version of tornado and jsonschema\n",
    "* sudo pip3 install tornado jsonschema --upgrade\n",
    "\n",
    "Now you have a beautiful jupyter console!"
   ]
  },
  {
   "cell_type": "code",
   "execution_count": null,
   "metadata": {
    "collapsed": true
   },
   "outputs": [],
   "source": []
  }
 ],
 "metadata": {
  "kernelspec": {
   "display_name": "Python 3",
   "language": "python",
   "name": "python3"
  },
  "language_info": {
   "codemirror_mode": {
    "name": "ipython",
    "version": 3
   },
   "file_extension": ".py",
   "mimetype": "text/x-python",
   "name": "python",
   "nbconvert_exporter": "python",
   "pygments_lexer": "ipython3",
   "version": "3.4.3"
  }
 },
 "nbformat": 4,
 "nbformat_minor": 0
}
